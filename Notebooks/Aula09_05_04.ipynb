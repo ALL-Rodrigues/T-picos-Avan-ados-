{
  "nbformat": 4,
  "nbformat_minor": 0,
  "metadata": {
    "colab": {
      "provenance": [],
      "authorship_tag": "ABX9TyN3NbZT04M56qUzDyoxbIR7",
      "include_colab_link": true
    },
    "kernelspec": {
      "name": "python3",
      "display_name": "Python 3"
    },
    "language_info": {
      "name": "python"
    }
  },
  "cells": [
    {
      "cell_type": "markdown",
      "metadata": {
        "id": "view-in-github",
        "colab_type": "text"
      },
      "source": [
        "<a href=\"https://colab.research.google.com/github/ALL-Rodrigues/Topicos_Avancados/blob/main/Notebooks/Aula09_05_04.ipynb\" target=\"_parent\"><img src=\"https://colab.research.google.com/assets/colab-badge.svg\" alt=\"Open In Colab\"/></a>"
      ]
    },
    {
      "cell_type": "markdown",
      "source": [
        "# Nona Aula de Tópicos Avançados\n",
        "\n",
        "A aula 09 de Topicos avançados foi realizada no sabado com dia letivo devido a uma aula onde tivemos problemas de energia elétrica no instituto e ocasionou na suspensão da aula.\n",
        "\n",
        "Na aula ocorrida no sabado letivo dia (05/04/2025), eu não compareci na reposição e por isso esse notebook está vazio, sem os dados da aula.\n",
        "\n",
        "este notebook existe para manter o padrão e sequencia dos notebooks das aulas.\n",
        "\n",
        "a aula que ouve a prova (11/04/2025) não contou no calculo das aula e em sua numeração."
      ],
      "metadata": {
        "id": "xiI35auNi7jI"
      }
    }
  ]
}