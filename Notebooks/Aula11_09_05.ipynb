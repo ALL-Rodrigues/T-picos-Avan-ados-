{
  "nbformat": 4,
  "nbformat_minor": 0,
  "metadata": {
    "colab": {
      "provenance": [],
      "authorship_tag": "ABX9TyMuYy0n25Cftsi52e5+j6KT",
      "include_colab_link": true
    },
    "kernelspec": {
      "name": "python3",
      "display_name": "Python 3"
    },
    "language_info": {
      "name": "python"
    }
  },
  "cells": [
    {
      "cell_type": "markdown",
      "metadata": {
        "id": "view-in-github",
        "colab_type": "text"
      },
      "source": [
        "<a href=\"https://colab.research.google.com/github/ALL-Rodrigues/Topicos_Avancados/blob/main/Notebooks/Aula11_09_05.ipynb\" target=\"_parent\"><img src=\"https://colab.research.google.com/assets/colab-badge.svg\" alt=\"Open In Colab\"/></a>"
      ]
    },
    {
      "cell_type": "markdown",
      "source": [
        "# Decima Primeira aula de Tópicos Avançados"
      ],
      "metadata": {
        "id": "uT3TYurqLfgu"
      }
    },
    {
      "cell_type": "markdown",
      "source": [
        "## Entrega das Provas para correção em sala de aula.\n",
        "<br>\n",
        "\n",
        "## Formação dos grupos para o trabalho de Inteligência Artificial e Processamento de Imagens.\n",
        "<br>\n",
        "\n",
        "## Escolha do tema do Tabalho. (imagens e saude ou imagens de analise de planetas)"
      ],
      "metadata": {
        "id": "bQuP6hlARNx5"
      }
    }
  ]
}