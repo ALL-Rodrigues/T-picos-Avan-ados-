{
  "nbformat": 4,
  "nbformat_minor": 0,
  "metadata": {
    "colab": {
      "provenance": [],
      "authorship_tag": "ABX9TyMLBdl5/4YVb4kM1Aryf8Un",
      "include_colab_link": true
    },
    "kernelspec": {
      "name": "python3",
      "display_name": "Python 3"
    },
    "language_info": {
      "name": "python"
    }
  },
  "cells": [
    {
      "cell_type": "markdown",
      "metadata": {
        "id": "view-in-github",
        "colab_type": "text"
      },
      "source": [
        "<a href=\"https://colab.research.google.com/github/ALL-Rodrigues/Topicos_Avancados/blob/main/Notebooks/Aula04_07_03.ipynb\" target=\"_parent\"><img src=\"https://colab.research.google.com/assets/colab-badge.svg\" alt=\"Open In Colab\"/></a>"
      ]
    },
    {
      "cell_type": "markdown",
      "source": [
        "# Quarta Aula de Tópicos Avançados\n",
        "\n",
        "Resolução de Exercícios\n",
        "\n",
        "1 - Crie funções de divisão e multiplicação! mostre funcionando.\n"
      ],
      "metadata": {
        "id": "hL46iDFOPAH-"
      }
    },
    {
      "cell_type": "code",
      "source": [
        "# 1 - crie funções de divisão e multiplicação! mostre funcionando...\n",
        "\n",
        "num = float(input('informe numero: '))\n",
        "deno = float(input('informe numero: '))\n",
        "\n",
        "\n",
        "# Funções\n",
        "def divisão(num, deno):\n",
        "\tif(deno > 0):\n",
        "\t\tr = num / deno\n",
        "\t\treturn r\n",
        "\n",
        "\telse:\n",
        "\t\tprint('divisão impossivel')\n",
        "\t\treturn None\n",
        "\n",
        "def multiplicacao(num, deno):\n",
        "\tr = num * deno\n",
        "\treturn r\n",
        "\n",
        "# Coisas necessárias para o código funcionar\n",
        "r = divisão(num, deno)\n",
        "if(r != None):\n",
        "\tprint('Divisão: ', r)\n",
        "\n",
        "r = multiplicacao(num, deno)\n",
        "print('multiplicação: ', r)\n",
        "\n"
      ],
      "metadata": {
        "id": "G2o-iG_fFDLC",
        "colab": {
          "base_uri": "https://localhost:8080/"
        },
        "outputId": "389a2a07-a2a9-4668-c745-1e00d429014c"
      },
      "execution_count": null,
      "outputs": [
        {
          "output_type": "stream",
          "name": "stdout",
          "text": [
            "informe numero: 10\n",
            "informe numero: 2\n",
            "Divisão:  5.0\n",
            "multiplicação:  20.0\n"
          ]
        }
      ]
    },
    {
      "cell_type": "markdown",
      "source": [
        "\n",
        "2 - Crie uma função que some 1 ao numero de entrada e outra que subtraia 1.\n"
      ],
      "metadata": {
        "id": "9-DiS7rcGC6u"
      }
    },
    {
      "cell_type": "code",
      "source": [
        "# 2 - crie uma função que some 1 ao numero de entrada e outra que subtraia 1\n",
        "\n",
        "num = 5\n",
        "\n",
        "# Funções\n",
        "def soma(num):\n",
        "    r = num +1\n",
        "    return r\n",
        "\n",
        "def sub(num):\n",
        "    r = num -1\n",
        "    return r\n",
        "\n",
        "# Saída das funções\n",
        "r = soma(num)\n",
        "print('soma: ', r)\n",
        "\n",
        "r = sub(num)\n",
        "print('subtração: ', r)"
      ],
      "metadata": {
        "id": "ZtClqbkAGKu2",
        "colab": {
          "base_uri": "https://localhost:8080/"
        },
        "outputId": "b6ef41ce-749d-4173-b7b6-7da96bebb47c"
      },
      "execution_count": null,
      "outputs": [
        {
          "output_type": "stream",
          "name": "stdout",
          "text": [
            "soma:  6\n",
            "subtração:  4\n"
          ]
        }
      ]
    },
    {
      "cell_type": "markdown",
      "source": [
        "\n",
        "3 - Pegue um numero digitado pelo usuário e passe para as funções de ex2.\n"
      ],
      "metadata": {
        "id": "O2WOdBjZG11T"
      }
    },
    {
      "cell_type": "code",
      "source": [
        "# 3 - pegue um numero digitado pelo usuário e passe para as funções de ex2\n",
        "\n",
        "num = float(input('informe um numero: '))\n",
        "\n",
        "def soma(num):\n",
        "    r = num +1\n",
        "    return r\n",
        "\n",
        "def sub(num):\n",
        "    r = num -1\n",
        "    return r\n",
        "\n",
        "# Saída das funções\n",
        "r = soma(num)\n",
        "print('soma: ', r)\n",
        "\n",
        "r = sub(num)\n",
        "print('subtração: ', r)"
      ],
      "metadata": {
        "id": "Houga0UkHAQa",
        "colab": {
          "base_uri": "https://localhost:8080/"
        },
        "outputId": "fcd37bc2-82a0-4630-c46d-f607e2bd612a"
      },
      "execution_count": null,
      "outputs": [
        {
          "output_type": "stream",
          "name": "stdout",
          "text": [
            "informe um numero: 7\n",
            "soma:  8.0\n",
            "subtração:  6.0\n"
          ]
        }
      ]
    },
    {
      "cell_type": "markdown",
      "source": [
        "\n",
        "4 - Crie um programa que imprima a tabuada de um numero (de 2 a 9) digitado pelo usuário.\n"
      ],
      "metadata": {
        "id": "lkWhpRwQHeJ2"
      }
    },
    {
      "cell_type": "code",
      "source": [
        "# 4 - crie um programa que imprima a tabuada de um numero (de 2 a 9) digitado pelo usuário\n",
        "\n",
        "#codificaçaõ exemplo\n",
        "\n",
        "i = 1\n",
        "num = int(input('Digite Número da tabuada: '))\n",
        "\n",
        "while(i <= 10):\n",
        "    print(num, 'X', i, '=', num*i)\n",
        "    i = i+1"
      ],
      "metadata": {
        "colab": {
          "base_uri": "https://localhost:8080/"
        },
        "id": "5wP2W3uAHkkI",
        "outputId": "3f92cc41-7f83-4c8f-8756-88398757bd9b"
      },
      "execution_count": null,
      "outputs": [
        {
          "output_type": "stream",
          "name": "stdout",
          "text": [
            "Digite Número da tabuada: 7\n",
            "7 X 1 = 7\n",
            "7 X 2 = 14\n",
            "7 X 3 = 21\n",
            "7 X 4 = 28\n",
            "7 X 5 = 35\n",
            "7 X 6 = 42\n",
            "7 X 7 = 49\n",
            "7 X 8 = 56\n",
            "7 X 9 = 63\n",
            "7 X 10 = 70\n"
          ]
        }
      ]
    },
    {
      "cell_type": "markdown",
      "source": [
        "\n",
        "5 - Crie um programa que imprima uma contagem regressiva iniciada em 10. e que quando chegue e, zero imprima \"vaiiiii!!!!\"\n"
      ],
      "metadata": {
        "id": "6NSbUqm6H1Do"
      }
    },
    {
      "cell_type": "code",
      "source": [
        "# 5 - crie um programa que imprima uma contagem regressiva iniciada em 10. e que quando chgue e, zero impriva \"vaiiiii!!!!\"\n",
        "\n",
        "print('Contagem regressiva')\n",
        "\n",
        "i = 10\n",
        "\n",
        "while (i >= 0):\n",
        "    if (i > 0):\n",
        "      print(i)\n",
        "\n",
        "    else:\n",
        "      print(\"vaiiiii!!!!\")\n",
        "\n",
        "    i -= 1\n",
        "\n",
        "print(\"FIM\")\n"
      ],
      "metadata": {
        "colab": {
          "base_uri": "https://localhost:8080/"
        },
        "id": "OZu8qmzbIG2z",
        "outputId": "fbfe91f5-043a-4294-ca84-bd955c179005"
      },
      "execution_count": null,
      "outputs": [
        {
          "output_type": "stream",
          "name": "stdout",
          "text": [
            "Contagem regressiva\n",
            "10\n",
            "9\n",
            "8\n",
            "7\n",
            "6\n",
            "5\n",
            "4\n",
            "3\n",
            "2\n",
            "1\n",
            "vaiiiii!!!!\n",
            "FIM\n"
          ]
        }
      ]
    },
    {
      "cell_type": "markdown",
      "source": [
        "\n",
        "6 - Crie um programa que receba a idade de 6 pessoas e calcule a média das idades.\n"
      ],
      "metadata": {
        "id": "ewnAype4Iy1b"
      }
    },
    {
      "cell_type": "code",
      "source": [
        "# 6 - crie um programa que receba a idade de 6 pessoas e calcule a média das idades.\n",
        "\n",
        "print('6 idades e 1 média')\n",
        "i = 1\n",
        "soma = 0\n",
        "\n",
        "while(i <= 6):\n",
        "    idade = int(input('Digite a idade da pessoa ' + str(i) + ': '))\n",
        "    soma += idade\n",
        "    i = i+1\n",
        "\n",
        "print(\"Soma: \", soma)\n",
        "\n",
        "media = soma/6\n",
        "\n",
        "print('Media das  idades é:', media)"
      ],
      "metadata": {
        "colab": {
          "base_uri": "https://localhost:8080/"
        },
        "id": "23odgMySI6Uv",
        "outputId": "39377dd7-4f66-43b2-8cf2-6584e7c08a5b"
      },
      "execution_count": null,
      "outputs": [
        {
          "output_type": "stream",
          "name": "stdout",
          "text": [
            "6 idades e 1 média\n",
            "Digite a idade da pessoa 1: 53\n",
            "Digite a idade da pessoa 2: 64\n",
            "Digite a idade da pessoa 3: 23\n",
            "Digite a idade da pessoa 4: 76\n",
            "Digite a idade da pessoa 5: 35\n",
            "Digite a idade da pessoa 6: 25\n",
            "Soma:  276\n",
            "Media das  idades é: 46.0\n"
          ]
        }
      ]
    },
    {
      "cell_type": "markdown",
      "source": [
        "Programa 6 feito com a utilização de \"For\" como laço de loop"
      ],
      "metadata": {
        "id": "v7eukii9Vyxq"
      }
    },
    {
      "cell_type": "code",
      "source": [
        "# Utilização de for\n",
        "\n",
        "media = 0\n",
        "idade = 0\n",
        "\n",
        "for i in range(1, 7):\n",
        "    idade = idade + float(input('Digite a idade da pessoa ' + str(i) + ': '))\n",
        "\n",
        "media = idade / 6\n",
        "\n",
        "print(idade)\n",
        "print(\"Media das idades é: \", media)"
      ],
      "metadata": {
        "colab": {
          "base_uri": "https://localhost:8080/"
        },
        "id": "KNDvYtMQV52I",
        "outputId": "c9bf4cab-baf5-444e-988e-9088db084c5d"
      },
      "execution_count": null,
      "outputs": [
        {
          "output_type": "stream",
          "name": "stdout",
          "text": [
            "Digite a idade da pessoa1: 10\n",
            "Digite a idade da pessoa2: 10\n",
            "Digite a idade da pessoa3: 10\n",
            "Digite a idade da pessoa4: 10\n",
            "Digite a idade da pessoa5: 10\n",
            "Digite a idade da pessoa6: 10\n",
            "60.0\n",
            "Media das idades é:  10.0\n"
          ]
        }
      ]
    },
    {
      "cell_type": "markdown",
      "source": [
        "Exemplo de for com pulos de 2 em 2 ou mais\n",
        "range\n",
        "\n",
        "**exemplo (1º, 2º, 3º)**\n",
        "\n",
        "  1° = inicio\n",
        "\n",
        "  2° = fim\n",
        "\n",
        "  3° = step(saltos/pulos)\n",
        "\n"
      ],
      "metadata": {
        "id": "jr4Jb0jEXrrV"
      }
    },
    {
      "cell_type": "code",
      "source": [
        "# Exemplo de saltos de 2 em 2\n",
        "\n",
        "i = 1\n",
        "for i in range(1, 10, 2):\n",
        "    print(i)"
      ],
      "metadata": {
        "colab": {
          "base_uri": "https://localhost:8080/"
        },
        "id": "rgBhuKlHX8Ll",
        "outputId": "4c632901-1272-4088-b04f-d9e55d71a1e2"
      },
      "execution_count": null,
      "outputs": [
        {
          "output_type": "stream",
          "name": "stdout",
          "text": [
            "1\n",
            "3\n",
            "5\n",
            "7\n",
            "9\n"
          ]
        }
      ]
    },
    {
      "cell_type": "markdown",
      "source": [
        "#Processamento de Imagens\n",
        "\n",
        "### Luminancia: mede a quantidade de energia que o observaor percebe a fonte da luz, medida em lúmen\n",
        "### Brilho: luz sobre o objeto, o quanto ele esta vribrante ou esurecido.\n",
        "### Matiz: comprimento da onda dominante da cor.\n",
        "\n",
        "\n",
        "- cores\n",
        "- pseudo cores\n",
        "\n",
        "\n",
        "-------------------------------------\n",
        "### Sistemas de cores\n",
        "- RGB  (red, green, blue)\n",
        "- CMYK (cyan, Magenta, yellow, black)\n",
        "- HSV  (Hue, Saturation, Value)\n",
        "- HLS  (Hue, Saturation, Lightness)\n",
        "\n",
        "-------------------------------------\n",
        "### Sistema HSV\n",
        "\n",
        "**Hue:** é o componente que define a cor (matiz);\n",
        "    (0 - 360) tbm pode ser um circulo que define a cor\n",
        "\n",
        "**Saturation:** determina a pureza da cor (saturação);\n",
        "    raio do circulo que vai do raio até a borda detrminando a cor, o centro é branco, ai vai modificando a cor\n",
        "\n",
        "**Value:** regula o brilho da cor. A cor preto possui brilho zero.\n",
        "    determina se a cor esta clara ou escura como num cone mais acima é a cor natural mais proximo da ponta do cone ele fica preto.\n",
        "\n",
        "\n",
        "RGB para HSV (Hue, Saturation, Value)\n",
        "\n",
        "* mod = modulo (ele pega o resto da divisão)\n",
        "\n",
        "  exemplo = 8 mod 6 = 2 (o número 6 cabe 1 dentro de 8 e sobram 2)\n",
        "\n"
      ],
      "metadata": {
        "id": "4-CCZgYIZvnp"
      }
    }
  ]
}