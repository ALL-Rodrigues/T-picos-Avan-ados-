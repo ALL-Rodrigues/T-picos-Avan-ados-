{
  "nbformat": 4,
  "nbformat_minor": 0,
  "metadata": {
    "colab": {
      "provenance": [],
      "include_colab_link": true
    },
    "kernelspec": {
      "name": "python3",
      "display_name": "Python 3"
    },
    "language_info": {
      "name": "python"
    }
  },
  "cells": [
    {
      "cell_type": "markdown",
      "metadata": {
        "id": "view-in-github",
        "colab_type": "text"
      },
      "source": [
        "<a href=\"https://colab.research.google.com/github/ALL-Rodrigues/Topicos_Avancados/blob/main/Notebooks/Aula03_28_02.ipynb\" target=\"_parent\"><img src=\"https://colab.research.google.com/assets/colab-badge.svg\" alt=\"Open In Colab\"/></a>"
      ]
    },
    {
      "cell_type": "markdown",
      "source": [
        "# Terceira Aula de Tópicos Avançados\n",
        "\n"
      ],
      "metadata": {
        "id": "S-V1q6Qup6Fn"
      }
    },
    {
      "cell_type": "markdown",
      "source": [
        "recaptulação sobre pyton:\n",
        "\n",
        "variáveis = int, float, str, bool {true & false}\n",
        "\n",
        "(string e char são = str)"
      ],
      "metadata": {
        "id": "rFYS2C8qqEWY"
      }
    },
    {
      "cell_type": "code",
      "source": [
        "import math\n",
        "\n",
        "nome = \"Alice\"\n",
        "idade = 25\n",
        "\n",
        "c = float(12/4)\n",
        "\n",
        "altura = 1.69\n",
        "estudante = True\n",
        "\n",
        "print(nome, idade)\n"
      ],
      "metadata": {
        "colab": {
          "base_uri": "https://localhost:8080/"
        },
        "id": "NDJYaijTqd7l",
        "outputId": "b97190bd-0313-47ed-b4c3-4ac1a5fba5af"
      },
      "execution_count": null,
      "outputs": [
        {
          "output_type": "stream",
          "name": "stdout",
          "text": [
            "Alice 25\n"
          ]
        }
      ]
    },
    {
      "cell_type": "markdown",
      "source": [
        "utilização de elif:\n",
        "\n",
        "O elif é uma palavra-chave em Python que serve como uma forma de \"caso contrário, se\" dentro de uma estrutura condicional. Ele é utilizado quando você deseja testar múltiplas condições, uma após a outra, de maneira mais concisa do que aninhar vários if."
      ],
      "metadata": {
        "id": "1oPVhLc7rhWH"
      }
    },
    {
      "cell_type": "code",
      "source": [
        "nome = \"Alice\"\n",
        "idade = 25\n",
        "\n",
        "if(idade < 12):\n",
        "  print(\"Criança\")\n",
        "elif(idade < 18):\n",
        "  print(\"Adolecente\")\n",
        "else:\n",
        "  print(\"Adulto\")"
      ],
      "metadata": {
        "colab": {
          "base_uri": "https://localhost:8080/"
        },
        "id": "ApPJtZo5rkEP",
        "outputId": "10bfdb8e-5718-4426-e611-363767e12043"
      },
      "execution_count": null,
      "outputs": [
        {
          "output_type": "stream",
          "name": "stdout",
          "text": [
            "Criança\n"
          ]
        }
      ]
    },
    {
      "cell_type": "markdown",
      "source": [
        "Exercicio para testar o elif;"
      ],
      "metadata": {
        "id": "7NDIsscJsMwV"
      }
    },
    {
      "cell_type": "code",
      "source": [
        "nota = 1 #(0 a 10)\n",
        "\n",
        "if(nota >= 9):\n",
        "  print(\"exelente\")\n",
        "elif(nota >= 7):\n",
        "  print(\"Bom\")\n",
        "elif(nota >= 5):\n",
        "  print(\"Recuperação\")\n",
        "else:\n",
        "  print(\"Reprovado\")\n"
      ],
      "metadata": {
        "colab": {
          "base_uri": "https://localhost:8080/"
        },
        "id": "_MaFWkoWsQ7u",
        "outputId": "598d7eef-cc6d-4810-9345-fb08f2e68e10"
      },
      "execution_count": null,
      "outputs": [
        {
          "output_type": "stream",
          "name": "stdout",
          "text": [
            "Reprovado\n"
          ]
        }
      ]
    },
    {
      "cell_type": "markdown",
      "source": [
        "### Funções\n",
        "\n",
        "funções ......."
      ],
      "metadata": {
        "id": "FgsnGeVWt8s_"
      }
    },
    {
      "cell_type": "code",
      "source": [
        "# funções em Python\n",
        "\n",
        "def Saudacao():\n",
        "    print(\"Estudando Python!\")\n",
        "\n",
        "#print(\"Hello World!!!\")\n",
        "\n",
        "Saudacao();"
      ],
      "metadata": {
        "colab": {
          "base_uri": "https://localhost:8080/"
        },
        "id": "UdnJE7fvuZE8",
        "outputId": "b635c8d4-551b-4f18-bef4-f69992c01be1"
      },
      "execution_count": null,
      "outputs": [
        {
          "output_type": "stream",
          "name": "stdout",
          "text": [
            "Hello World!!!\n",
            "Estudando Python!\n"
          ]
        }
      ]
    },
    {
      "cell_type": "markdown",
      "source": [
        "Exemplo de fuções"
      ],
      "metadata": {
        "id": "Doj5gwJDvikZ"
      }
    },
    {
      "cell_type": "code",
      "source": [
        "#nome = \"Pri\"\n",
        "\n",
        "def saudar_nome(nome):\n",
        "    print(\"olá\", nome)\n",
        "\n",
        "saudar_nome(\"Alice\")\n",
        "saudar_nome(\"Bob\")\n",
        "#saudar_nome(nome)"
      ],
      "metadata": {
        "colab": {
          "base_uri": "https://localhost:8080/"
        },
        "id": "SmQcy3ulvnKY",
        "outputId": "e4912641-46ce-480a-fde1-2fd693e99fd9"
      },
      "execution_count": null,
      "outputs": [
        {
          "output_type": "stream",
          "name": "stdout",
          "text": [
            "olá Alice\n",
            "olá Bob\n",
            "olá Pri\n"
          ]
        }
      ]
    },
    {
      "cell_type": "markdown",
      "source": [
        "Funções com Return"
      ],
      "metadata": {
        "id": "g53yHEBHxNRK"
      }
    },
    {
      "cell_type": "code",
      "source": [
        "def soma(a, b):\n",
        "    return a + b\n",
        "\n",
        "r1 = soma(7,3)\n",
        "r2 = soma(-2,8)\n",
        "print(r1, r2)"
      ],
      "metadata": {
        "colab": {
          "base_uri": "https://localhost:8080/"
        },
        "id": "6u0zx1-AxSJg",
        "outputId": "65de2ae5-4162-4274-98f9-35f8b9a8ff4d"
      },
      "execution_count": null,
      "outputs": [
        {
          "output_type": "stream",
          "name": "stdout",
          "text": [
            "10 6\n"
          ]
        }
      ]
    },
    {
      "cell_type": "markdown",
      "source": [
        "cores e tal"
      ],
      "metadata": {
        "id": "SfTOX-q95smc"
      }
    },
    {
      "cell_type": "code",
      "source": [
        "import matplotlib.pyplot as plt\n",
        "\n",
        "# função\n",
        "def rgb_to_cmyk(r, g, b):\n",
        "    # define normaliza\n",
        "    r_prime = r / 255\n",
        "    g_prime = g / 255\n",
        "    b_prime = b / 255\n",
        "\n",
        "    # calcula o valor\n",
        "    k = 1 - max(r_prime, g_prime, b_prime)\n",
        "\n",
        "    #evita divisão po 0 quando a cor é preta (rgb = 0)\n",
        "\n",
        "    if(k == 1):\n",
        "      return 0, 0, 0,  1 # preto puro\n",
        "\n",
        "    # calcula os valores de C, M, Y e K\n",
        "    c = (1 - r_prime - k) / (1-k)\n",
        "    m = (1 - g_prime - k) / (1-k)\n",
        "    y = (1 - b_prime - k) / (1-k)\n",
        "\n",
        "    return round(c, 2), round(m, 2), round(y, 2), round(k, 2)\n",
        "\n",
        "# entrada do usuario (valores entre 0 e 255)\n",
        "r = int(input(\"digite o valor de R (0-255):\"))\n",
        "g = int(input(\"digite o valor de G (0-255):\"))\n",
        "b = int(input(\"digite o valor de B (0-255):\"))\n",
        "\n",
        "# converte RGB para cmyk\n",
        "c, m, y, k  = rgb_to_cmyk(r, g, b)\n",
        "\n",
        "#exibe os resultados\n",
        "print(f\"CMYK: ({c}, {m}, {y}, {k})\")\n",
        "\n",
        "# exibe a cor original e, RGB\n",
        "fig, ax = plt.subplots(figsize=(2, 2))\n",
        "ax.set_facecolor((r/255, g/255, b/255))\n",
        "ax.set_xticks([])\n",
        "ax.set_xticks([])\n",
        "plt.show()"
      ],
      "metadata": {
        "id": "Y9vUBw525uzc",
        "colab": {
          "base_uri": "https://localhost:8080/",
          "height": 274
        },
        "outputId": "a0ca2e34-f543-4d62-cc43-4278a2d336e8"
      },
      "execution_count": null,
      "outputs": [
        {
          "output_type": "stream",
          "name": "stdout",
          "text": [
            "digite o valor de R (0-255):167\n",
            "digite o valor de G (0-255):99\n",
            "digite o valor de B (0-255):18\n",
            "CMYK: (0.0, 0.41, 0.89, 0.35)\n"
          ]
        },
        {
          "output_type": "display_data",
          "data": {
            "text/plain": [
              "<Figure size 200x200 with 1 Axes>"
            ],
            "image/png": "[encoded data removed]"
          },
          "metadata": {}
        }
      ]
    },
    {
      "cell_type": "markdown",
      "source": [
        "\n",
        "## calculo usando a formula\n",
        "\n",
        "R = 255 * (1 - 0.19) * (1 - 0.19)  == 167,30\n",
        "\n",
        "G = 255 * (1 - 0.53) * (1 - 0.19)  == 97,07\n",
        "\n",
        "B = 255 * (1 - 0.91) * (1 - 0.19)  == 18,58"
      ],
      "metadata": {
        "id": "GfdHiV0CGQXe"
      }
    },
    {
      "cell_type": "code",
      "source": [
        "import matplotlib.pyplot as plt\n",
        "\n",
        "#função  para converter cmyk paar rgb\n",
        "def cmyk_to_rgb(c, m, y, k):\n",
        "    #calcula os valores de rgb (volta do cmyk para 255)\n",
        "    r = 255 * (1-c) * (1-k)\n",
        "    g = 255 * (1-m) * (1-k)\n",
        "    b = 255 * (1-y) * (1-k)\n",
        "\n",
        "    return int(r), int(g), int(b)\n",
        "\n",
        "# entraada do usuario (valores de cmyk nentre 0 e 1)\n",
        "c = float(input(\"Digite valor de c (0-1):\"))\n",
        "m = float(input(\"Digite valor de m (0-1):\"))\n",
        "y = float(input(\"Digite valor de y (0-1):\"))\n",
        "k = float(input(\"Digite valor de k (0-1):\"))\n",
        "\n",
        "#converte para rgb\n",
        "r, g, b, = cmyk_to_rgb(c, m, y, k)\n",
        "\n",
        "#exibe os resultados\n",
        "print(f\"RGB: ({r}, {g}, {b})\")\n",
        "\n",
        "#exibe a cor original em rgb\n",
        "fig, ax = plt.subplots(figsize=(2, 2))\n",
        "ax.set_facecolor((r/255, g/255, b/255))\n",
        "ax.set_xticks([])\n",
        "ax.set_xticks([])\n",
        "plt.show()"
      ],
      "metadata": {
        "id": "VYya2e6mKugS",
        "colab": {
          "base_uri": "https://localhost:8080/",
          "height": 292
        },
        "outputId": "d4c2129a-2a61-4efd-af13-6be0e0115afa"
      },
      "execution_count": null,
      "outputs": [
        {
          "output_type": "stream",
          "name": "stdout",
          "text": [
            "Digite valor de c (0-1):0.19\n",
            "Digite valor de m (0-1):0.52\n",
            "Digite valor de y (0-1):0.91\n",
            "Digite valor de k (0-1):0.19\n",
            "RGB: (167, 99, 18)\n"
          ]
        },
        {
          "output_type": "display_data",
          "data": {
            "text/plain": [
              "<Figure size 200x200 with 1 Axes>"
            ],
            "image/png": "[encoded data removed]"
          },
          "metadata": {}
        }
      ]
    }
  ]
}