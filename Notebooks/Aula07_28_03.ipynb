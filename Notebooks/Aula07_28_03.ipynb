{
  "nbformat": 4,
  "nbformat_minor": 0,
  "metadata": {
    "colab": {
      "provenance": [],
      "authorship_tag": "ABX9TyNCk/llnhl0b85OtNX/6skI",
      "include_colab_link": true
    },
    "kernelspec": {
      "name": "python3",
      "display_name": "Python 3"
    },
    "language_info": {
      "name": "python"
    }
  },
  "cells": [
    {
      "cell_type": "markdown",
      "metadata": {
        "id": "view-in-github",
        "colab_type": "text"
      },
      "source": [
        "<a href=\"https://colab.research.google.com/github/ALL-Rodrigues/Topicos_Avancados/blob/main/Notebooks/Aula07_28_03.ipynb\" target=\"_parent\"><img src=\"https://colab.research.google.com/assets/colab-badge.svg\" alt=\"Open In Colab\"/></a>"
      ]
    },
    {
      "cell_type": "markdown",
      "source": [
        "# Setima aula de Tópicos Avançados\n",
        "\n",
        "## Kernel -> Matriz/Imagem de Processamento\n",
        "\n",
        "convolução é um somatório,\n",
        "<br>\n",
        "\n",
        "No processamento de imagens, um kernel (também chamado de máscara ou filtro) é uma pequena matriz de números usada para aplicar efeitos sobre uma imagem, como borramento, detecção de bordas, nitidez, entre outros. Cada valor no kernel define o peso que será dado ao pixel correspondente da imagem durante o processamento.\n",
        "<br>\n",
        "\n",
        "O processo fundamental que utiliza um kernel é chamado de convolução. Durante a convolução, o kernel percorre a imagem (matriz de pixels) posição por posição. Para cada posição, realiza-se uma operação de somatório: multiplica-se cada elemento do kernel pelo pixel correspondente da imagem e, em seguida, soma-se todos os resultados para produzir um novo valor de pixel.\n",
        "<br>\n",
        "\n",
        "Essa operação altera a imagem original de acordo com o objetivo do filtro. Por exemplo:\n",
        "\n",
        "* Um kernel de borramento suaviza variações de cor e brilho.\n",
        "* Um kernel de detecção de bordas realça áreas de forte contraste.\n",
        "<br>\n",
        "\n",
        "###**Resumo da operação de convolução:**\n",
        "\n",
        "1. O kernel é posicionado sobre um grupo de pixels da imagem.\n",
        "2. Cada valor do kernel é multiplicado pelo valor correspondente do pixel.\n",
        "3. Todos os resultados das multiplicações são somados.\n",
        "4. O valor obtido é atribuído ao pixel central no novo processamento."
      ],
      "metadata": {
        "id": "bkWfKMiQzZE_"
      }
    },
    {
      "cell_type": "code",
      "source": [
        "# Códigos da aula\n",
        "# Seram passados na aula que vem."
      ],
      "metadata": {
        "id": "RMcG6eE4z1f7"
      },
      "execution_count": null,
      "outputs": []
    }
  ]
}